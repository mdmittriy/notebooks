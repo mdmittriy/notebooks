{
 "cells": [
  {
   "cell_type": "code",
   "execution_count": 1,
   "id": "cfaed182",
   "metadata": {},
   "outputs": [],
   "source": [
    "import numpy as np\n",
    "import pandas as pd\n",
    "\n",
    "x = np.linspace(0, 10, 11)\n",
    "y = 3 * x + 2\n",
    "y\n",
    "x0 = x**0\n",
    "X = np.column_stack([x0, x])"
   ]
  },
  {
   "cell_type": "code",
   "execution_count": 2,
   "id": "e262a53a",
   "metadata": {},
   "outputs": [
    {
     "data": {
      "text/plain": [
       "(array([ 2.,  5.,  8., 11., 14., 17., 20., 23., 26., 29., 32.]),\n",
       " array([[ 1.,  0.],\n",
       "        [ 1.,  1.],\n",
       "        [ 1.,  2.],\n",
       "        [ 1.,  3.],\n",
       "        [ 1.,  4.],\n",
       "        [ 1.,  5.],\n",
       "        [ 1.,  6.],\n",
       "        [ 1.,  7.],\n",
       "        [ 1.,  8.],\n",
       "        [ 1.,  9.],\n",
       "        [ 1., 10.]]))"
      ]
     },
     "execution_count": 2,
     "metadata": {},
     "output_type": "execute_result"
    }
   ],
   "source": [
    "y, X"
   ]
  },
  {
   "cell_type": "code",
   "execution_count": 3,
   "id": "32fb4f4c",
   "metadata": {},
   "outputs": [
    {
     "name": "stdout",
     "output_type": "stream",
     "text": [
      "[-1. -1.]\n",
      "[ 3.6 30. ]\n",
      "[ -23.72 -160.6 ]\n",
      "[ 145.024 1010.32 ]\n",
      "[ -890.9008 -6183.944 ]\n",
      "[ 5474.62336 38017.5648 ]\n",
      "[ -33634.466112 -233557.01216 ]\n",
      "[ 206652.8392704 1434999.539072 ]\n",
      "[-1269673.86765568 -8816627.07370241]\n",
      "[ 7800891.37957787 54169459.30987017]\n"
     ]
    }
   ],
   "source": [
    "m = 11\n",
    "step = 0.1\n",
    "k = step * 2 / m\n",
    "\n",
    "theta = np.round(np.random.randn(2)*10)\n",
    "\n",
    "for _ in range(10):\n",
    "    print(theta)\n",
    "    theta = theta - k*X.T@(X@theta - y)"
   ]
  },
  {
   "cell_type": "code",
   "execution_count": 4,
   "id": "4478eef8",
   "metadata": {},
   "outputs": [],
   "source": [
    "def find_optimal_params(X, y):\n",
    "    m = y.shape[0]\n",
    "    step = 0.1\n",
    "    theta = np.random.randn(2)\n",
    "    k = step * 2 / m\n",
    "    for _ in range(100):\n",
    "        theta = theta - k*(X.T@(X@theta - y))    \n",
    "    print(theta)\n",
    "    return theta"
   ]
  }
 ],
 "metadata": {
  "kernelspec": {
   "display_name": "Python 3 (ipykernel)",
   "language": "python",
   "name": "python3"
  },
  "language_info": {
   "codemirror_mode": {
    "name": "ipython",
    "version": 3
   },
   "file_extension": ".py",
   "mimetype": "text/x-python",
   "name": "python",
   "nbconvert_exporter": "python",
   "pygments_lexer": "ipython3",
   "version": "3.9.7"
  }
 },
 "nbformat": 4,
 "nbformat_minor": 5
}
