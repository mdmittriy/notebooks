{
 "cells": [
  {
   "cell_type": "markdown",
   "id": "3d3aedff-2216-41ee-9680-214c1bbbb371",
   "metadata": {
    "tags": []
   },
   "source": [
    "##### Imports"
   ]
  },
  {
   "cell_type": "code",
   "execution_count": 1,
   "id": "add3cff7-2e5c-40d6-8dfb-4df8799a2346",
   "metadata": {},
   "outputs": [],
   "source": [
    "import numpy as np\n",
    "import pandas as pd\n",
    "\n",
    "from sklearn.impute import SimpleImputer, KNNImputer\n",
    "from sklearn.preprocessing import PolynomialFeatures, StandardScaler, MinMaxScaler\n",
    "\n",
    "from sklearn.base import BaseEstimator, TransformerMixin\n",
    "from sklearn.preprocessing import OrdinalEncoder, OneHotEncoder\n",
    "\n",
    "from sklearn.pipeline import Pipeline\n",
    "from sklearn.compose import ColumnTransformer\n",
    "\n",
    "from sklearn.linear_model import LogisticRegression, SGDClassifier\n",
    "from sklearn.ensemble import RandomForestClassifier\n",
    "from sklearn.svm import SVC\n",
    "\n",
    "from sklearn.model_selection import GridSearchCV\n",
    "\n",
    "DATA_PATH=\"./data/\"\n",
    "test = pd.read_csv(DATA_PATH+\"test.csv\")\n",
    "train = pd.read_csv(DATA_PATH+\"train.csv\")\n",
    "data_full = pd.concat([train.drop(labels=\"Survived\", axis=1), test]).reset_index(drop=True)\n",
    "\n",
    "N_JOBS=-1\n",
    "CV=5"
   ]
  },
  {
   "cell_type": "markdown",
   "id": "e37590d8-12b9-4a5a-b876-4ad6b56725ee",
   "metadata": {},
   "source": [
    "##### Transforming"
   ]
  },
  {
   "cell_type": "code",
   "execution_count": 2,
   "id": "cd459658-6a64-478e-8be0-b42e45849fb2",
   "metadata": {},
   "outputs": [],
   "source": [
    "class GroupNames(BaseEstimator, TransformerMixin):\n",
    "    def fit(self, X, y=None):\n",
    "        return self\n",
    "    def transform(self, X):\n",
    "        X.Name = pd.Series(data=X.Name.str.replace(\".*, \", \"\", regex=True).str.replace(\" .*\", \"\", regex=True))\n",
    "        X.Name.loc[X.Name.str.contains('Mlle.|the|Ms.|Lady.|Mme.')] = 'Mrs.'\n",
    "        X.Name.loc[X.Name.str.contains('Dr.|Rev.|Major.|Col.|Capt.|Sir.|Don.|Jonkheer.')] = 'Mr.'\n",
    "        return X"
   ]
  },
  {
   "cell_type": "code",
   "execution_count": 3,
   "id": "4ee11da0-3658-44fa-ae2e-af04236ca596",
   "metadata": {
    "tags": []
   },
   "outputs": [],
   "source": [
    "cat_pipe = Pipeline([\n",
    "    ('grouper', GroupNames()),\n",
    "    ('imputer', SimpleImputer(strategy='constant', fill_value='NA')),\n",
    "    ('encoder', OrdinalEncoder()),\n",
    "])"
   ]
  },
  {
   "cell_type": "code",
   "execution_count": 4,
   "id": "b7a0aeaa-df5e-4b1c-944b-4374f7a1d49f",
   "metadata": {},
   "outputs": [],
   "source": [
    "num_pipe = Pipeline([\n",
    "    ('imputer', KNNImputer(weights='distance')),\n",
    "    ('kernel', None),\n",
    "])"
   ]
  },
  {
   "cell_type": "code",
   "execution_count": 5,
   "id": "77155fd6-588a-4819-acca-22eb210ee6b3",
   "metadata": {
    "tags": []
   },
   "outputs": [],
   "source": [
    "num_columns = ['Pclass', 'Age', 'SibSp', 'Parch', 'Fare']\n",
    "cat_columns = ['Name', 'Sex', 'Embarked']\n",
    "\n",
    "full_transform = ColumnTransformer([\n",
    "    ('num_pipe', num_pipe, num_columns),\n",
    "    ('cat_pipe', cat_pipe, cat_columns),\n",
    "])            "
   ]
  },
  {
   "cell_type": "code",
   "execution_count": 6,
   "id": "fc9f3116-c728-421d-99c7-64ceb9c9f3cb",
   "metadata": {
    "tags": []
   },
   "outputs": [],
   "source": [
    "full_pipe = Pipeline([\n",
    "    ('transformer', full_transform),\n",
    "    ('scaler', StandardScaler()),\n",
    "    ('predictor', RandomForestClassifier(criterion='entropy', random_state=0, n_jobs=N_JOBS)),\n",
    "])"
   ]
  },
  {
   "cell_type": "code",
   "execution_count": 8,
   "id": "88b87f4c-1e22-4f53-ac46-15f7b228384e",
   "metadata": {
    "tags": []
   },
   "outputs": [],
   "source": [
    "param_grid = [{\n",
    "    'transformer__num_pipe__kernel': [None, PolynomialFeatures(degree=1), PolynomialFeatures(degree=2)],\n",
    "    'predictor__min_samples_leaf': [1, 2, 3, 4],\n",
    "    'predictor__min_samples_split': [2, 3, 4, 5],\n",
    "    'predictor__n_estimators': [100, 251, 25],\n",
    "    'predictor__max_features': ['auto', 'sqrt', 'log2'],\n",
    "}]\n",
    "gs = GridSearchCV(full_pipe, param_grid, n_jobs=N_JOBS, cv=CV, return_train_score=True)\n",
    "gs.fit(train.drop(labels=[\"Survived\"], axis=1), train.Survived)\n",
    "\n",
    "pd.set_option('display.max_colwidth', None)\n",
    "pd.DataFrame(gs.cv_results_)[[\"params\", \"rank_test_score\", \"mean_test_score\", \"mean_train_score\"]].sort_values(by='rank_test_score', axis=0).head(15)"
   ]
  },
  {
   "cell_type": "markdown",
   "id": "395f37df-a393-47a9-a8a3-4c93969c05c5",
   "metadata": {
    "tags": []
   },
   "source": [
    "#### All Results after Grid Search being applied on RandomForestRegressor SupportVectorRegressor and LogisticRegressor"
   ]
  },
  {
   "cell_type": "markdown",
   "id": "502543b5-9720-43b4-b2a4-45e0faa7e3d5",
   "metadata": {},
   "source": [
    "{'predictor': SVC(random_state=0), 'transformer__num_pipe__kernel__degree': 1} \t1 \t0.837242 \t0.839786  \n",
    "{'predictor': SVC(random_state=0), 'transformer__num_pipe__kernel__degree': 2} \t2 \t0.831630 \t0.840347  \n",
    "{'predictor': RandomForestClassifier(random_state=0), 'transformer__num_pipe__kernel__degree': 1} \t3 \t0.818191 \t0.982323  \n",
    "{'predictor': LogisticRegression(max_iter=200, random_state=0), 'transformer__num_pipe__kernel__degree': 2} \t4 \t0.814808 \t0.826599  \n",
    "{'predictor': RandomForestClassifier(random_state=0), 'transformer__num_pipe__kernel__degree': 2} \t5 \t0.811481 \t0.982323  \n",
    "{'predictor': LogisticRegression(max_iter=200, random_state=0), 'transformer__num_pipe__kernel__degree': 1} \t6 \t0.793516 \t0.804714  "
   ]
  },
  {
   "cell_type": "markdown",
   "id": "377da08d-79f9-416e-96ef-b9e6cc27ecbd",
   "metadata": {},
   "source": [
    "{'rfc__min_samples_leaf': 2, 'rfc__min_samples_split': 3, 'rfc__n_estimators': 165, 'transformer__num_pipe__kernel__degree': 1} \t1 \t0.841749 \t0.918070  \n",
    "{'rfc__min_samples_leaf': 2, 'rfc__min_samples_split': 4, 'rfc__n_estimators': 165, 'transformer__num_pipe__kernel__degree': 1} \t1 \t0.841749 \t0.918070  \n",
    "{'rfc__min_samples_leaf': 2, 'rfc__min_samples_split': 3, 'rfc__n_estimators': 170, 'transformer__num_pipe__kernel__degree': 1} \t1 \t0.841749 \t0.917228  \n",
    "{'rfc__min_samples_leaf': 2, 'rfc__min_samples_split': 4, 'rfc__n_estimators': 170, 'transformer__num_pipe__kernel__degree': 1} \t1 \t0.841749 \t0.917228  "
   ]
  },
  {
   "cell_type": "markdown",
   "id": "ea7228ef-e82a-4bda-889b-9a0e3c635143",
   "metadata": {},
   "source": [
    "{'lr__C': 1.6111111111111112, 'lr__tol': 1e-05, 'transformer__num_pipe__kernel': PolynomialFeatures()} \t1 \t0.818172  \n",
    "{'lr__C': 1.6111111111111112, 'lr__tol': 0.0001, 'transformer__num_pipe__kernel': PolynomialFeatures()} \t1 \t0.818172  "
   ]
  },
  {
   "cell_type": "markdown",
   "id": "0078e7cc-3723-4124-bdaf-9a143393e58a",
   "metadata": {},
   "source": [
    "{'predictor': RandomForestClassifier(criterion='entropy', min_samples_leaf=2, min_samples_split=4, n_estimators=170, n_jobs=-1, random_state=0), 'transformer__num_pipe__kernel': PolynomialFeatures(degree=1)} \t1 \t0.841749 \t0.917228  \n",
    "{'predictor': SVC(random_state=0), 'transformer__num_pipe__kernel': None} \t2 \t0.837242 \t0.839786"
   ]
  },
  {
   "cell_type": "markdown",
   "id": "f283524b-05f0-4f3e-8037-0e22a42d8949",
   "metadata": {},
   "source": [
    "{'predictor__max_features': 'log2', 'predictor__min_samples_leaf': 3, 'predictor__min_samples_split': 3, 'predictor__n_estimators': 100, 'transformer__num_pipe__kernel': None} \t1 \t0.843990 \t0.900114  \n",
    "{'predictor__max_features': 'log2', 'predictor__min_samples_leaf': 3, 'predictor__min_samples_split': 5, 'predictor__n_estimators': 100, 'transformer__num_pipe__kernel': None} \t1 \t0.843990 \t0.900114  \n",
    "{'predictor__max_features': 'log2', 'predictor__min_samples_leaf': 3, 'predictor__min_samples_split': 2, 'predictor__n_estimators': 100, 'transformer__num_pipe__kernel': None} \t1 \t0.843990 \t0.900114  \n",
    "{'predictor__max_features': 'log2', 'predictor__min_samples_leaf': 3, 'predictor__min_samples_split': 4, 'predictor__n_estimators': 100, 'transformer__num_pipe__kernel': None} \t1 \t0.843990 \t0.900114  "
   ]
  },
  {
   "cell_type": "markdown",
   "id": "a79e955d-c9a9-448c-a835-595dfcd73e2d",
   "metadata": {},
   "source": [
    "##### Downloading (CSV)"
   ]
  },
  {
   "cell_type": "code",
   "execution_count": 9,
   "id": "ac775966-d928-45f4-81dd-9ec3e53fbcf7",
   "metadata": {},
   "outputs": [],
   "source": [
    "result = pd.DataFrame(gs.predict(test))\n",
    "result.rename(columns={0: \"Survived\"}, inplace=True)\n",
    "result['PassengerId'] = list(range(892, 1310))\n",
    "result.set_index('PassengerId', drop=True, inplace=True)\n",
    "#result.to_csv('latest_prediction.csv')"
   ]
  }
 ],
 "metadata": {
  "kernelspec": {
   "display_name": "Python 3 (ipykernel)",
   "language": "python",
   "name": "python3"
  },
  "language_info": {
   "codemirror_mode": {
    "name": "ipython",
    "version": 3
   },
   "file_extension": ".py",
   "mimetype": "text/x-python",
   "name": "python",
   "nbconvert_exporter": "python",
   "pygments_lexer": "ipython3",
   "version": "3.9.7"
  }
 },
 "nbformat": 4,
 "nbformat_minor": 5
}
