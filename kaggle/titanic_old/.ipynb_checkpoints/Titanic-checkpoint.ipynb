{
 "cells": [
  {
   "cell_type": "markdown",
   "id": "1f4ab4c8",
   "metadata": {},
   "source": [
    "## Titanic"
   ]
  },
  {
   "cell_type": "code",
   "execution_count": 1,
   "id": "a7ce4c62",
   "metadata": {},
   "outputs": [],
   "source": [
    "#code taken from:\n",
    "#https://stackabuse.com/classification-in-python-with-scikit-learn-and-pandas/\n",
    "#https://scikit-learn.org/stable/modules/impute.html\n",
    "\n",
    "import pandas as pd\n",
    "import sklearn as sk\n",
    "import matplotlib.pyplot as plt\n",
    "\n",
    "from sklearn.experimental import enable_iterative_imputer\n",
    "from sklearn.impute import IterativeImputer\n",
    "\n",
    "from sklearn import svm\n",
    "from sklearn.linear_model import LogisticRegression\n",
    "from sklearn.ensemble import RandomForestClassifier    "
   ]
  },
  {
   "cell_type": "code",
   "execution_count": 2,
   "id": "6eca676c",
   "metadata": {
    "scrolled": true
   },
   "outputs": [],
   "source": [
    "def clean (df):\n",
    "    #Removing unused features\n",
    "    df = df.drop(labels=[\"PassengerId\", \"Fare\", \"Ticket\", \"Cabin\", \"Embarked\"], axis=1)\n",
    "    if \"Survived\" in df.columns:\n",
    "        df = df.drop(labels=\"Survived\", axis=1)\n",
    "    \n",
    "    #Making gender binary \n",
    "    gender_to_bin = {\"male\" : 1, \"female\": 0}\n",
    "    df.Sex = [gender_to_bin[gender] for gender in df.Sex]\n",
    "    \n",
    "    #Replacing the \"Name\" column with the Average Age per Title\n",
    "    df.Name = pd.Series(data=df.Name.str.replace(\".*, \", \"\", regex=True).str.replace(\" .*\", \"\", regex=True))\n",
    "    title_to_age_dict = df.groupby(\"Name\")[\"Age\"].mean().round(2).to_dict()\n",
    "    df.Name = [title_to_age_dict[title] for title in df.Name]\n",
    "    df.rename(columns={\"Name\" : \"Age/title\"}, inplace=True)\n",
    "    \n",
    "    return df"
   ]
  },
  {
   "cell_type": "code",
   "execution_count": 3,
   "id": "bbf1edcc",
   "metadata": {},
   "outputs": [],
   "source": [
    "def train_impute(df):\n",
    "    \n",
    "    impute_model = IterativeImputer(max_iter=10, random_state=0)\n",
    "    impute_model.fit(clean(df))\n",
    "    \n",
    "    return impute_model"
   ]
  },
  {
   "cell_type": "code",
   "execution_count": 4,
   "id": "2d9a86b0",
   "metadata": {},
   "outputs": [],
   "source": [
    "def impute(df, impute_model):\n",
    "    \n",
    "    df = clean(df)\n",
    "    df_imputed = impute_model.transform(df)\n",
    "    df_imputed = pd.DataFrame(df_imputed, columns=df.columns)\n",
    "    df_imputed[\"Age\"] = df_imputed[\"Age\"].round(2)\n",
    "\n",
    "    return df_imputed"
   ]
  },
  {
   "cell_type": "code",
   "execution_count": 5,
   "id": "e9d7547d",
   "metadata": {},
   "outputs": [],
   "source": [
    "def test(X, y):\n",
    "    \n",
    "    SVM = svm.LinearSVC(dual=False)\n",
    "    LR = LogisticRegression(random_state=0, solver='lbfgs', multi_class='ovr')\n",
    "    RF = RandomForestClassifier(n_estimators=100, max_depth=2, random_state=0)\n",
    "    \n",
    "    for model in [[\"Support Vector Machines: \", SVM], [\"Logistic Regression: \", LR], [\"Random Forest: \", RF]]:\n",
    "            print(model[0], round(model[1].fit(X,y).score(X,y), 3))"
   ]
  },
  {
   "cell_type": "code",
   "execution_count": 6,
   "id": "e8e67836",
   "metadata": {},
   "outputs": [],
   "source": [
    "def predict(X, y, imputed_test_df):\n",
    "    \n",
    "    RF = RandomForestClassifier(n_estimators=100, max_depth=2, random_state=0).fit(X, y)\n",
    "    prediction = RF.predict(imputed_test_df)\n",
    "\n",
    "    results = pd.DataFrame({\"PassengerId\" : test_df.PassengerId, \"Survived\" : prediction})\n",
    "    return results"
   ]
  },
  {
   "cell_type": "markdown",
   "id": "3f5b5a9e",
   "metadata": {},
   "source": [
    "###### Downloading and inspecting the data"
   ]
  },
  {
   "cell_type": "code",
   "execution_count": 7,
   "id": "efd37e8b",
   "metadata": {},
   "outputs": [
    {
     "name": "stdout",
     "output_type": "stream",
     "text": [
      "Mean fare for class 3 13.675550101832997\n",
      "Mean fare for class 1 84.15468749999992\n",
      "Mean fare for class 2 20.66218315217391\n"
     ]
    }
   ],
   "source": [
    "train_df = pd.read_csv(\"data/train.csv\")\n",
    "test_df = pd.read_csv(\"data/test.csv\")\n",
    "\n",
    "for pclass in train_df.Pclass.unique():\n",
    "    p_fare = train_df[train_df[\"Pclass\"] == pclass]\n",
    "    print(\"Mean fare for class\", pclass, p_fare[\"Fare\"].mean())"
   ]
  },
  {
   "cell_type": "code",
   "execution_count": 8,
   "id": "b41a2c00",
   "metadata": {},
   "outputs": [
    {
     "data": {
      "text/plain": [
       "<AxesSubplot:title={'center':'Chance of dying for people below a given age'}>"
      ]
     },
     "execution_count": 8,
     "metadata": {},
     "output_type": "execute_result"
    },
    {
     "data": {
      "image/png": "[encoded data removed]",
      "text/plain": [
       "<Figure size 432x288 with 1 Axes>"
      ]
     },
     "metadata": {
      "needs_background": "light"
     },
     "output_type": "display_data"
    }
   ],
   "source": [
    "chances, MAX_AGE = [], int(train_df.Age.max())\n",
    "\n",
    "for age in range(1, MAX_AGE+1):\n",
    "    people = train_df[train_df[\"Age\"] < age]\n",
    "    chances.append(people[\"Survived\"].sum()/len(people))\n",
    "    \n",
    "chance_below_age = pd.Series(chances, index=range(1,MAX_AGE+1))\n",
    "chance_below_age.plot(title=\"Chance of dying for people below a given age\")"
   ]
  },
  {
   "cell_type": "markdown",
   "id": "42f2e5f7",
   "metadata": {},
   "source": [
    "###### Impute model"
   ]
  },
  {
   "cell_type": "code",
   "execution_count": 9,
   "id": "c549c1c6",
   "metadata": {},
   "outputs": [],
   "source": [
    "#Trining our impute model on df\n",
    "impute_model = train_impute(train_df)\n",
    "#For some reason making an impute model on a partial data instead of full df makes a better prediction"
   ]
  },
  {
   "cell_type": "markdown",
   "id": "f2689aa0",
   "metadata": {},
   "source": [
    "###### Testing on train-df"
   ]
  },
  {
   "cell_type": "code",
   "execution_count": 10,
   "id": "a7aa2482",
   "metadata": {},
   "outputs": [
    {
     "name": "stdout",
     "output_type": "stream",
     "text": [
      "Support Vector Machines:  0.814\n",
      "Logistic Regression:  0.813\n",
      "Random Forest:  0.82\n"
     ]
    }
   ],
   "source": [
    "train_X = impute(train_df, impute_model)\n",
    "y = train_df.Survived\n",
    "test(train_X, y)"
   ]
  },
  {
   "cell_type": "markdown",
   "id": "2d68d2d7",
   "metadata": {},
   "source": [
    "###### Predicting given test-df"
   ]
  },
  {
   "cell_type": "code",
   "execution_count": 11,
   "id": "5ee85e87",
   "metadata": {},
   "outputs": [
    {
     "data": {
      "text/html": [
       "<div>\n",
       "<style scoped>\n",
       "    .dataframe tbody tr th:only-of-type {\n",
       "        vertical-align: middle;\n",
       "    }\n",
       "\n",
       "    .dataframe tbody tr th {\n",
       "        vertical-align: top;\n",
       "    }\n",
       "\n",
       "    .dataframe thead th {\n",
       "        text-align: right;\n",
       "    }\n",
       "</style>\n",
       "<table border=\"1\" class=\"dataframe\">\n",
       "  <thead>\n",
       "    <tr style=\"text-align: right;\">\n",
       "      <th></th>\n",
       "      <th>PassengerId</th>\n",
       "      <th>Survived</th>\n",
       "    </tr>\n",
       "  </thead>\n",
       "  <tbody>\n",
       "    <tr>\n",
       "      <th>0</th>\n",
       "      <td>892</td>\n",
       "      <td>0</td>\n",
       "    </tr>\n",
       "    <tr>\n",
       "      <th>1</th>\n",
       "      <td>893</td>\n",
       "      <td>1</td>\n",
       "    </tr>\n",
       "    <tr>\n",
       "      <th>2</th>\n",
       "      <td>894</td>\n",
       "      <td>0</td>\n",
       "    </tr>\n",
       "    <tr>\n",
       "      <th>3</th>\n",
       "      <td>895</td>\n",
       "      <td>0</td>\n",
       "    </tr>\n",
       "    <tr>\n",
       "      <th>4</th>\n",
       "      <td>896</td>\n",
       "      <td>1</td>\n",
       "    </tr>\n",
       "    <tr>\n",
       "      <th>...</th>\n",
       "      <td>...</td>\n",
       "      <td>...</td>\n",
       "    </tr>\n",
       "    <tr>\n",
       "      <th>413</th>\n",
       "      <td>1305</td>\n",
       "      <td>0</td>\n",
       "    </tr>\n",
       "    <tr>\n",
       "      <th>414</th>\n",
       "      <td>1306</td>\n",
       "      <td>1</td>\n",
       "    </tr>\n",
       "    <tr>\n",
       "      <th>415</th>\n",
       "      <td>1307</td>\n",
       "      <td>0</td>\n",
       "    </tr>\n",
       "    <tr>\n",
       "      <th>416</th>\n",
       "      <td>1308</td>\n",
       "      <td>0</td>\n",
       "    </tr>\n",
       "    <tr>\n",
       "      <th>417</th>\n",
       "      <td>1309</td>\n",
       "      <td>0</td>\n",
       "    </tr>\n",
       "  </tbody>\n",
       "</table>\n",
       "<p>418 rows × 2 columns</p>\n",
       "</div>"
      ],
      "text/plain": [
       "     PassengerId  Survived\n",
       "0            892         0\n",
       "1            893         1\n",
       "2            894         0\n",
       "3            895         0\n",
       "4            896         1\n",
       "..           ...       ...\n",
       "413         1305         0\n",
       "414         1306         1\n",
       "415         1307         0\n",
       "416         1308         0\n",
       "417         1309         0\n",
       "\n",
       "[418 rows x 2 columns]"
      ]
     },
     "execution_count": 11,
     "metadata": {},
     "output_type": "execute_result"
    }
   ],
   "source": [
    "#Predict the outputs of test_X given Random Forest model build with X and y\n",
    "test_X = impute(test_df, impute_model)\n",
    "predict(train_X, y, test_X)"
   ]
  }
 ],
 "metadata": {
  "kernelspec": {
   "display_name": "Python 3 (ipykernel)",
   "language": "python",
   "name": "python3"
  },
  "language_info": {
   "codemirror_mode": {
    "name": "ipython",
    "version": 3
   },
   "file_extension": ".py",
   "mimetype": "text/x-python",
   "name": "python",
   "nbconvert_exporter": "python",
   "pygments_lexer": "ipython3",
   "version": "3.8.2"
  }
 },
 "nbformat": 4,
 "nbformat_minor": 5
}
