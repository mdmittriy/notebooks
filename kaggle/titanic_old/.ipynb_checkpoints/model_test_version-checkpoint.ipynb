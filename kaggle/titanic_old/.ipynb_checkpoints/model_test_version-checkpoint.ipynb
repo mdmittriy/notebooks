{
 "cells": [
  {
   "cell_type": "markdown",
   "id": "1f4ab4c8",
   "metadata": {},
   "source": [
    "# 09_23 Titanic"
   ]
  },
  {
   "cell_type": "code",
   "execution_count": 1,
   "id": "a7ce4c62",
   "metadata": {},
   "outputs": [],
   "source": [
    "import pandas as pd\n",
    "import sklearn as sk\n",
    "import matplotlib.pyplot as plt"
   ]
  },
  {
   "cell_type": "markdown",
   "id": "5c9ce3e7",
   "metadata": {},
   "source": [
    "### Preprocessing the data"
   ]
  },
  {
   "cell_type": "code",
   "execution_count": 2,
   "id": "6eca676c",
   "metadata": {},
   "outputs": [],
   "source": [
    "def clean (df, drop_survived=True):\n",
    "    #Removing unused features\n",
    "    df = df.drop(labels=[\"Fare\", \"PassengerId\", \"Ticket\", \"Cabin\", \"Embarked\"], axis=1)  #add Survived to the list?\n",
    "    if drop_survived and \"Survived\" in df.columns:\n",
    "        df = df.drop(labels=\"Survived\", axis=1)\n",
    "    \n",
    "    #Making gender binary \n",
    "    gender_to_bin = {\"male\" : 1, \"female\": 0}\n",
    "    df.Sex = [gender_to_bin[gender] for gender in df.Sex]\n",
    "    \n",
    "    #Creating Av. age for a person's title column\n",
    "    df.Name = pd.Series(data=df.Name.str.replace(\".*, \", \"\", regex=True).str.replace(\" .*\", \"\", regex=True), name=\"Title\")\n",
    "    \n",
    "    title_to_age_dict = df.groupby(\"Name\")[\"Age\"].mean().round(2).to_dict()\n",
    "    df.Name = [title_to_age_dict[title] for title in df.Name]\n",
    "    df.rename(columns={\"Name\" : \"Av. age for a Title\"}, inplace=True)\n",
    "    \n",
    "    return df"
   ]
  },
  {
   "cell_type": "code",
   "execution_count": 3,
   "id": "21ae3d19",
   "metadata": {},
   "outputs": [],
   "source": [
    "def train_impute(df):\n",
    "    #from https://scikit-learn.org/stable/modules/impute.html\n",
    "    from sklearn.experimental import enable_iterative_imputer\n",
    "    from sklearn.impute import IterativeImputer\n",
    "\n",
    "    imp = IterativeImputer(max_iter=10, random_state=0)\n",
    "    imp.fit(clean(df))\n",
    "    return imp"
   ]
  },
  {
   "cell_type": "code",
   "execution_count": 4,
   "id": "254eb854",
   "metadata": {},
   "outputs": [],
   "source": [
    "def impute(X_for_imp):\n",
    "    \n",
    "    X_imputed = imp.transform(X_for_imp)\n",
    "    X_imputed = pd.DataFrame(X_imputed, columns=X_for_imp.columns)\n",
    "    X_imputed[\"Age\"] = X_imputed[\"Age\"].round(2)\n",
    "\n",
    "    return X_imputed\n",
    "\n",
    "def process(df):\n",
    "    return impute(clean(df, drop_survived=True))"
   ]
  },
  {
   "cell_type": "code",
   "execution_count": 5,
   "id": "49d16e7a",
   "metadata": {},
   "outputs": [],
   "source": [
    "def subm(model, test_df, file_name):\n",
    "    imputed_test_df = process(test_df)\n",
    "    prediction = model.predict(imputed_test_df)\n",
    "\n",
    "    results = pd.DataFrame({\"PassengerId\" : test_df.PassengerId, \"Survived\" : prediction})\n",
    "    results.to_csv(\"data/subm/\"+file_name+\".csv\", index=False)"
   ]
  },
  {
   "cell_type": "code",
   "execution_count": 6,
   "id": "d353eb6f",
   "metadata": {},
   "outputs": [],
   "source": [
    "def test(feature_matrix, expected_outputs):\n",
    "    \n",
    "    from sklearn.neural_network import MLPClassifier\n",
    "    NN = MLPClassifier(solver='lbfgs', alpha=1e-5, hidden_layer_sizes=(5, 2), random_state=1)\n",
    "    NN.fit(X,y)\n",
    "    print(\"NN: \", round(NN.score(X,y), 3))\n",
    "    \n",
    "    from sklearn.linear_model import LogisticRegression\n",
    "    LR = LogisticRegression(random_state=0, solver='lbfgs', multi_class='ovr')\n",
    "    LR.fit(X, y)\n",
    "    print(\"LR: \", round(LR.score(X, y), 3))\n",
    "    \n",
    "    from sklearn import svm\n",
    "    SVM = svm.LinearSVC(dual=False)\n",
    "    SVM.fit(X, y)\n",
    "    print(\"SVM: \", round(SVM.score(X,y), 3))\n",
    "    \n",
    "    from sklearn.ensemble import RandomForestClassifier\n",
    "    RF = RandomForestClassifier(n_estimators=100, max_depth=2, random_state=0)\n",
    "    RF.fit(X, y)\n",
    "    print(\"RF: \", round(RF.score(X, y), 3))\n",
    "    \n",
    "    print(\"Average: \", round(((RF.score(X,y)+SVM.score(X,y)+LR.score(X,y))/3), 4))"
   ]
  },
  {
   "cell_type": "code",
   "execution_count": 14,
   "id": "3c5e4ace",
   "metadata": {},
   "outputs": [],
   "source": [
    "df = pd.read_csv(\"data/train.csv\")\n",
    "test_df = pd.read_csv(\"data/test.csv\")\n",
    "\n",
    "#Creating full data frame\n",
    "#test_df.index = range(891,1309)\n",
    "\n",
    "#full_df = pd.concat([df.drop(labels=\"Survived\", axis=1), test_df])\n",
    "#full_df = clean(full_df, survived=False)"
   ]
  },
  {
   "cell_type": "code",
   "execution_count": 8,
   "id": "a6b2d853",
   "metadata": {},
   "outputs": [],
   "source": [
    "#Trining our impute model on df\n",
    "imp = train_impute(df)"
   ]
  },
  {
   "cell_type": "code",
   "execution_count": 9,
   "id": "ac1296b6",
   "metadata": {},
   "outputs": [],
   "source": [
    "#Applying impute on df and cleaning\n",
    "X = process(df)\n",
    "y = df.Survived"
   ]
  },
  {
   "cell_type": "code",
   "execution_count": 12,
   "id": "cd2b4846",
   "metadata": {},
   "outputs": [
    {
     "name": "stdout",
     "output_type": "stream",
     "text": [
      "NN:  0.622\n",
      "LR:  0.813\n",
      "SVM:  0.814\n",
      "RF:  0.82\n",
      "Average:  0.8156\n"
     ]
    }
   ],
   "source": [
    "test(X, y)"
   ]
  },
  {
   "cell_type": "code",
   "execution_count": 11,
   "id": "9758c732",
   "metadata": {},
   "outputs": [
    {
     "ename": "SyntaxError",
     "evalue": "invalid syntax (1997500058.py, line 2)",
     "output_type": "error",
     "traceback": [
      "\u001b[0;36m  File \u001b[0;32m\"/tmp/ipykernel_26772/1997500058.py\"\u001b[0;36m, line \u001b[0;32m2\u001b[0m\n\u001b[0;31m    Try changing imput to full table since I don't use survived column anyway\u001b[0m\n\u001b[0m        ^\u001b[0m\n\u001b[0;31mSyntaxError\u001b[0m\u001b[0;31m:\u001b[0m invalid syntax\n"
     ]
    }
   ],
   "source": [
    "#Idea: instead of imputing just fill in average age, in this way it will be possible to \"fill in\\ impute\" test data and thu\n",
    "Try changing imput to full table since I don't use survived column anyway"
   ]
  }
 ],
 "metadata": {
  "kernelspec": {
   "display_name": "Python 3 (ipykernel)",
   "language": "python",
   "name": "python3"
  },
  "language_info": {
   "codemirror_mode": {
    "name": "ipython",
    "version": 3
   },
   "file_extension": ".py",
   "mimetype": "text/x-python",
   "name": "python",
   "nbconvert_exporter": "python",
   "pygments_lexer": "ipython3",
   "version": "3.8.2"
  }
 },
 "nbformat": 4,
 "nbformat_minor": 5
}
