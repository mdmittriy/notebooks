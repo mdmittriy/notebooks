{
 "cells": [
  {
   "cell_type": "code",
   "execution_count": 1,
   "id": "34c9475f",
   "metadata": {},
   "outputs": [],
   "source": [
    "# import numpy as np\n",
    "import pandas as pd\n",
    "import sklearn as sk\n",
    "import matplotlib.pyplot as plt\n",
    "\n",
    "df = pd.read_csv(\"data/train.csv\")\n",
    "test_df = pd.read_csv(\"data/test.csv\")"
   ]
  },
  {
   "cell_type": "code",
   "execution_count": 2,
   "id": "31cd4ea0",
   "metadata": {},
   "outputs": [],
   "source": [
    "def test(feature_matrix, expected_outputs):\n",
    "    \n",
    "    from sklearn.neural_network import MLPClassifier\n",
    "    NN = MLPClassifier(solver='lbfgs', alpha=1e-5, hidden_layer_sizes=(5, 2), random_state=1)\n",
    "    NN.fit(X,y)\n",
    "    print(\"NN: \", round(NN.score(X,y), 4))\n",
    "    \n",
    "    from sklearn.linear_model import LogisticRegression\n",
    "    LR = LogisticRegression(random_state=0, solver='lbfgs', multi_class='ovr')\n",
    "    LR.fit(X, y)\n",
    "    print(\"LR: \", round(LR.score(X, y), 4))\n",
    "    \n",
    "    from sklearn import svm\n",
    "    SVM = svm.LinearSVC(dual=False)\n",
    "    SVM.fit(X, y)\n",
    "    print(\"SV: \", round(SVM.score(X,y), 4))\n",
    "    \n",
    "    from sklearn.ensemble import RandomForestClassifier\n",
    "    RF = RandomForestClassifier(n_estimators=100, max_depth=2, random_state=0)\n",
    "    RF.fit(X, y)\n",
    "    print(\"RF: \", round(RF.score(X, y), 4))\n",
    "    \n",
    "    print(\"Average: \", round(((RF.score(X,y)+SVM.score(X,y)+LR.score(X,y))/3), 5))"
   ]
  },
  {
   "cell_type": "code",
   "execution_count": 3,
   "id": "ba4b8f51",
   "metadata": {},
   "outputs": [],
   "source": [
    "y = df.Survived\n",
    "X = df.drop(labels=[\"Fare\", \"Survived\", \"Name\", \"Age\", \"PassengerId\", \"Ticket\", \"Cabin\", \"Embarked\"], axis=1)\n",
    "\n",
    "gender_to_bin = {\"male\" : 1, \"female\": 0}\n",
    "X.Sex = [gender_to_bin[gender] for gender in X.Sex]\n",
    "\n"
   ]
  },
  {
   "cell_type": "code",
   "execution_count": 4,
   "id": "2940edac",
   "metadata": {},
   "outputs": [
    {
     "name": "stdout",
     "output_type": "stream",
     "text": [
      "NN:  0.8036\n",
      "LR:  0.8002\n",
      "SV:  0.7935\n",
      "RF:  0.8058\n",
      "Average:  0.79985\n"
     ]
    }
   ],
   "source": [
    "df."
   ]
  }
 ],
 "metadata": {
  "kernelspec": {
   "display_name": "Python 3 (ipykernel)",
   "language": "python",
   "name": "python3"
  },
  "language_info": {
   "codemirror_mode": {
    "name": "ipython",
    "version": 3
   },
   "file_extension": ".py",
   "mimetype": "text/x-python",
   "name": "python",
   "nbconvert_exporter": "python",
   "pygments_lexer": "ipython3",
   "version": "3.9.7"
  }
 },
 "nbformat": 4,
 "nbformat_minor": 5
}
