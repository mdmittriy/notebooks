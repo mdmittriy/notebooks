{
 "cells": [
  {
   "cell_type": "markdown",
   "id": "1a5f714c",
   "metadata": {},
   "source": [
    "## 09/21 mml.pdf Vector Calculus Chapter 5 and exercises from chapter 4 137 page "
   ]
  },
  {
   "cell_type": "markdown",
   "id": "6e62e8a9",
   "metadata": {},
   "source": [
    "Linear regression  \n",
    "2D plot, many data points,  \n",
    "1. Draw a line\n",
    "2. Calculate the squared distance of every point to a line\n",
    "3. Change the line a little\n",
    "4. Go to 2. until all lines are drown\n",
    "5. Now plot the sum of squared distances (SS) for every line\n",
    "6. The one with the smallest values of SS distances is our fit\n",
    "7. SS(fit) := a sum of squared distances from the data points to our best fit line\n",
    "8. Variance of fit or Var(fit) = SS(fit)/n, where n is the number of data points\n",
    "9. Take an axis that we want to predict based on the data, say z\n",
    "10. Calculate sum of squared distances of every z component to the mean of all z, or SS(mean)\n",
    "11. SS(mean) sum of squared distance of every z component to the mean z\n",
    "12. Var(mean) = SS(mean)/n, -> the average squared distance to z mean per mouse\n",
    "13. Var(mean) how z varies per mouse\n",
    "14. Var(fit) can be seen as a variation of z (f.e. tail size of a mouse) according to the fit line\n",
    "15. So if we fit the tail sizes with respect to the weight of a mouse then we get the fit line.\n",
    "16. In this way Var(fit) is the variation of tail sizes when we ajusted to the weight factor.\n",
    "17. So Vat(mean)-Var(fit) is how much of variation is explained by weight \n",
    "18. if we divide Vat(mean)-Var(fit) by Var(mean) the reduction of varience due to weight ajustment\n",
    "19. Var was Var(mean) before but after fitting to a line w.r.t. weight we the var changed to Var(fit)\n",
    "20. So delta(Var)/Var(mean) is how much varience reduced due to the introduction of weight\n",
    "\n",
    "p-value determines how reliable the data is -- the smaller the better/more reliable\n",
    "R^2 determines how our varience was reduced due to the introduction of new parameters\n",
    "the more R^2 the better z is explained by introduced parameters\n"
   ]
  },
  {
   "cell_type": "markdown",
   "id": "c0fd2f17",
   "metadata": {},
   "source": [
    "### Solving/finding SVD for a matrix (\"2 2; -1 1\")"
   ]
  },
  {
   "cell_type": "code",
   "execution_count": 49,
   "id": "e3a90b8e",
   "metadata": {},
   "outputs": [
    {
     "name": "stdout",
     "output_type": "stream",
     "text": [
      "ATA = V * sigma square * VT\n",
      "[[5 3]\n",
      " [3 5]]\n",
      "V [[ 0.70710678 -0.70710678]\n",
      " [ 0.70710678  0.70710678]]\n",
      "eigenvaluse [[8. 0.]\n",
      " [0. 2.]]\n",
      "AAT = U * sigma square * UT\n",
      "[[8 0]\n",
      " [0 2]]\n",
      "U [[1. 0.]\n",
      " [0. 1.]]\n",
      "eigenvaluse [[8. 0.]\n",
      " [0. 2.]]\n",
      "[[2.82842712 0.        ]\n",
      " [0.         1.41421356]]\n"
     ]
    },
    {
     "data": {
      "text/plain": [
       "matrix([[ 2.,  2.],\n",
       "        [-1.,  1.]])"
      ]
     },
     "execution_count": 49,
     "metadata": {},
     "output_type": "execute_result"
    }
   ],
   "source": [
    "import numpy as np\n",
    "A = np.matrix(\"2 2; -1 1\")\n",
    "AT= A.transpose()\n",
    "\n",
    "AAT=A@AT\n",
    "ATA=AT@A\n",
    "\n",
    "\n",
    "val1, V = np.linalg.eig(ATA)\n",
    "\n",
    "print(\"ATA = V * sigma square * VT\")\n",
    "print(ATA)\n",
    "\n",
    "print(\"V\", V)\n",
    "print(\"eigenvaluse\", np.diag(val1))\n",
    "\n",
    "val2, U = np.linalg.eig(AAT)\n",
    "print(\"AAT = U * sigma square * UT\")\n",
    "print(AAT)\n",
    "\n",
    "print(\"U\", U)\n",
    "print(\"eigenvaluse\", np.diag(val2))\n",
    "\n",
    "import math\n",
    "S = [math.sqrt(x) for x in val2]\n",
    "S = np.diag(S)\n",
    "print(S)\n",
    "\n",
    "U@S@V.transpose()"
   ]
  },
  {
   "cell_type": "code",
   "execution_count": 52,
   "id": "4cc332d5",
   "metadata": {},
   "outputs": [
    {
     "data": {
      "text/plain": [
       "7.38905609893065"
      ]
     },
     "execution_count": 52,
     "metadata": {},
     "output_type": "execute_result"
    }
   ],
   "source": [
    "math.exp(2)"
   ]
  },
  {
   "cell_type": "code",
   "execution_count": null,
   "id": "51b8c9eb",
   "metadata": {},
   "outputs": [],
   "source": []
  }
 ],
 "metadata": {
  "kernelspec": {
   "display_name": "Python 3 (ipykernel)",
   "language": "python",
   "name": "python3"
  },
  "language_info": {
   "codemirror_mode": {
    "name": "ipython",
    "version": 3
   },
   "file_extension": ".py",
   "mimetype": "text/x-python",
   "name": "python",
   "nbconvert_exporter": "python",
   "pygments_lexer": "ipython3",
   "version": "3.9.7"
  }
 },
 "nbformat": 4,
 "nbformat_minor": 5
}
